{
 "cells": [
  {
   "cell_type": "markdown",
   "id": "a4faf294-d10b-418c-9161-776703b9662e",
   "metadata": {},
   "source": [
    "## 12. Дифференциальные уравнения. Робин Гуд\n",
    "Робин Гуд бросает камень с привязанным к нему письмом\n",
    "через бойницу крепостной стены в открытое окно, стоящего за ней замка:\n",
    "``` \n",
    "                    стена                    замок\n",
    "                    _____ \n",
    "                   [     ]                  ______ \n",
    "                   [     ]                 [      ]\n",
    "                   [_____]                 [      ]\n",
    "                   бойница                 [      ]\n",
    "                    _____                  [      ]\n",
    "                   [     ]                 [      ]\n",
    "                   [     ]                   окно ]\n",
    "                   [     ]                 [      ]\n",
    "                   [     ]                 [      ]\n",
    ".                  [     ]                 [      ]\n",
    " \\0 _              [     ]                 [      ]\n",
    "  I                [     ]                 [      ]\n",
    " / \\               [     ]                 [      ]\n",
    "~~~~~~~~~~~~~~~~~~~~~~~~~~~~~~~~~~~~~~~~~~~~~~~~~~~~\n",
    "```\n",
    "\n",
    "Смоделируйте полет камня с помощью функции `integrate.solve_ivp`.\n",
    "Рассмотрите следующие события (events): \n",
    "   1. камень упал на землю, не долетев до окна (либо до, либо после стены);\n",
    "   2. камень не попал в бойницу (ударился о стену);\n",
    "   3. камень застрял в бойнице (стукнулся о «пол» или «потолок» бойницы и упал внутри нее); \n",
    "   4. камень стукнулся о  стену замка (не попав в окно);\n",
    "   5. камень попал в окно \n",
    "      (для простоты считаем, что и крепостная стена, и замок очень высокие\n",
    "      и сверху через них камень перебросить нельзя).\n",
    "При наступлении каждого из этих событий дальнейшее интегрирование прекращаются. \n",
    "\n",
    "Написать функцию, на вход которой подаются:\n",
    "  * параметры:\n",
    "    масса камня,\n",
    "    расстояние от Робин Гуда до стены,\n",
    "    толщину стены (равную длине бойницы),\n",
    "    расстояние от земли до бойницы и высоту бойницы,\n",
    "    расстояние от стены до замка,\n",
    "    расстояние от земли до окна и высоту окна,\n",
    "\n",
    "  * начальные условия:\n",
    "    угол броска и начальную скорость камня.\n",
    "\n",
    "Программа должна отображать «вид сбоку» (многоугольники можно нарисовать с помощью функций\n",
    "`matplotlib.patches.Patch`) и траекторию полета."
   ]
  },
  {
   "cell_type": "markdown",
   "id": "c93f1bf2-9d7f-4b56-97f2-3e2489d46574",
   "metadata": {},
   "source": [
    "# Код программы\n"
   ]
  },
  {
   "cell_type": "code",
   "execution_count": 20,
   "id": "9e8a881f-de59-401c-bc0f-bf1134f51fcd",
   "metadata": {
    "tags": []
   },
   "outputs": [],
   "source": [
    "import math\n",
    "import matplotlib.pyplot as plt\n",
    "import numpy as np\n",
    "from matplotlib import patches\n",
    "\n",
    "g = 9.8  \n",
    "initial_x = 0  # начальное положение x\n",
    "initial_y = 2  # начальное положение y\n",
    "initial_velocity = 15  # начальная скорость\n",
    "launch_angle = 75  # угол броска\n",
    "wall_distance = 6  # расстояние до стены\n",
    "wall_width = 1  # ширина стены\n",
    "bottom_embrasure_height = 10  # высота низа бойницы\n",
    "embrasure_height = 5  # высота бойницы\n",
    "castle_distance = 5  # расстояние от стены до замка\n",
    "castle_window_height = 7  # высота окна замка\n",
    "castle_wall_width = 1  # ширина стены замка (только для рисунка)\n",
    "window_height = 2  # высота окна\n",
    "\n",
    "\n",
    "# Вычисление координаты x в зависимости от времени\n",
    "def calculate_x_coordinate(time, initial_x, initial_velocity_x):\n",
    "    return initial_x + initial_velocity_x * time\n",
    "\n",
    "\n",
    "# Вычисление координаты y в зависимости от времени\n",
    "def calculate_y_coordinate(time, initial_y, initial_velocity_y):\n",
    "    return initial_y + initial_velocity_y * time - 0.5 * g * time ** 2\n",
    "\n",
    "\n",
    "# Вычисление времени, необходимого для достижения заданной координаты x\n",
    "def calculate_time_x(coordinate_x, initial_x, initial_velocity_x):\n",
    "    return (coordinate_x - initial_x) / initial_velocity_x\n",
    "\n",
    "\n",
    "# Вычисление времени, необходимого для достижения заданной координаты y\n",
    "def calculate_time_y(coordinate_y, initial_y, initial_velocity_y):\n",
    "    time1 = (initial_velocity_y - math.sqrt(initial_velocity_y ** 2 + 2 * g * (initial_y - coordinate_y))) / g\n",
    "    time2 = (initial_velocity_y + math.sqrt(initial_velocity_y ** 2 + 2 * g * (initial_y - coordinate_y))) / g\n",
    "    return time1, time2\n",
    "\n",
    "\n",
    "# Вычисление времени до достижения максимальной высоты по оси y\n",
    "def calculate_time_to_reach_max_height(initial_velocity_y):\n",
    "    return initial_velocity_y / g\n",
    "\n",
    "\n",
    "def model(initial_x, initial_y, initial_velocity, launch_angle,\n",
    "          wall_distance, wall_width, bottom_embrasure_height, embrasure_height,\n",
    "          castle_distance, castle_height, castle_wall_width, window_height):\n",
    "    # Вычисление координат стен и окон\n",
    "\n",
    "    wall_end = wall_distance + wall_width\n",
    "    castle_dist = wall_end + castle_distance\n",
    "    castle_end = castle_dist + castle_wall_width\n",
    "    wall_top_height = bottom_embrasure_height + embrasure_height\n",
    "    castle_top_height = castle_height + window_height\n",
    "\n",
    "    # Перевод угла в радианы и вычисление проекций начальной скорости\n",
    "    angle = math.pi * launch_angle / 180\n",
    "    v0_x = initial_velocity * math.cos(angle)\n",
    "    v0_y = initial_velocity * math.sin(angle)\n",
    "\n",
    "    # Вычисление координаты y при достижении стены\n",
    "    time_x = calculate_time_x(wall_distance, initial_x, v0_x)\n",
    "    x_in_wall = calculate_x_coordinate(time_x, initial_x, v0_x)\n",
    "    y_in_wall = calculate_y_coordinate(time_x, initial_y, v0_y)\n",
    "\n",
    "    # Вычисление координаты y при покидании стены\n",
    "    time_x = calculate_time_x(wall_end, initial_x, v0_x)\n",
    "    x_out_wall = calculate_x_coordinate(time_x, initial_x, v0_x)\n",
    "    y_out_wall = calculate_y_coordinate(time_x, initial_y, v0_y)\n",
    "\n",
    "    # Вычисление координаты y при достижении замка\n",
    "    time_x = calculate_time_x(castle_dist, initial_x, v0_x)\n",
    "    x_in_castle = calculate_x_coordinate(time_x, initial_x, v0_x)\n",
    "    y_in_castle = calculate_y_coordinate(time_x, initial_y, v0_y)\n",
    "\n",
    "    # Вычисление времени до достижения максимальной высоты по оси y\n",
    "    time_max = calculate_time_to_reach_max_height(v0_y)\n",
    "    x_max = calculate_x_coordinate(time_max, initial_x, v0_x)\n",
    "    y_max = calculate_y_coordinate(time_max, initial_y, v0_y)\n",
    "\n",
    "    # Создание объектов для рисования стен и окон\n",
    "    wall_bottom = patches.Rectangle((wall_distance, 0),\n",
    "                                    wall_width, bottom_embrasure_height,\n",
    "                                    edgecolor='blue', facecolor='red')\n",
    "    wall_top = patches.Rectangle((wall_distance, bottom_embrasure_height + embrasure_height),\n",
    "                                 wall_width, bottom_embrasure_height,\n",
    "                                 linewidth=3, edgecolor='blue', facecolor='red')\n",
    "    castle_bottom = patches.Rectangle((wall_end + castle_distance, 0),\n",
    "                                      castle_wall_width, castle_height,\n",
    "                                      edgecolor='blue', facecolor='red')\n",
    "    castle_top = patches.Rectangle((wall_end + castle_distance, castle_height + window_height),\n",
    "                                   castle_wall_width, bottom_embrasure_height,\n",
    "                                   edgecolor='blue', facecolor='red')\n",
    "\n",
    "    # Создание графика и добавление объектов для рисования\n",
    "    fig = plt.figure(figsize=(16, 12))\n",
    "    _, ax = plt.subplots()\n",
    "    ax.add_patch(wall_bottom)\n",
    "    ax.add_patch(wall_top)\n",
    "    ax.add_patch(castle_bottom)\n",
    "    ax.add_patch(castle_top)\n",
    "    pass\n",
    "\n",
    "    # Флаг попадания\n",
    "    hit = True\n",
    "\n",
    "    # Проверка различных сценариев полета объекта и определение интервала времени ts\n",
    "    if y_in_wall < bottom_embrasure_height:\n",
    "        # Полет ниже бойницы\n",
    "        time_y = calculate_time_y(0, initial_y, v0_y)[1]\n",
    "        if calculate_x_coordinate(time_y, initial_x, v0_x) < wall_distance:\n",
    "        # Не долетел до стены\n",
    "            ts = np.linspace(0, time_y, 500)\n",
    "        else:\n",
    "        # Долетел до стены, но не попал\n",
    "            ts = np.linspace(0, calculate_time_x(wall_distance, initial_x, v0_x), 500)\n",
    "        hit = False\n",
    "    elif y_in_wall > wall_top_height:\n",
    "        # Полет выше бойницы\n",
    "        ts = np.linspace(0, calculate_time_x(wall_distance, initial_x, v0_x), 500)\n",
    "        hit = False\n",
    "    elif y_out_wall < bottom_embrasure_height:\n",
    "    # Ударился о нижнюю часть бойницы\n",
    "        ts = np.linspace(0, calculate_time_x(wall_distance, initial_x, v0_x), 500)\n",
    "        hit = False\n",
    "    elif y_out_wall > wall_top_height:\n",
    "    # Ударился о верхнюю часть бойницы\n",
    "        ts = np.linspace(0, calculate_time_x(wall_distance, initial_x, v0_x), 500)\n",
    "        hit = False\n",
    "    elif y_in_castle < castle_height:\n",
    "    # Полет ниже окна замка\n",
    "        ts = np.linspace(0, calculate_time_x(castle_dist, initial_x, v0_x), 500)\n",
    "        hit = False\n",
    "    elif y_in_castle > castle_top_height:\n",
    "    # Полет выше окна замка\n",
    "        time_y = calculate_time_y(0, initial_y, v0_y)[1]\n",
    "        if calculate_x_coordinate(time_y, initial_x, v0_x) < castle_dist:\n",
    "            ts = np.linspace(0, time_y, 500)\n",
    "        else:\n",
    "            ts = np.linspace(0, calculate_time_x(castle_dist, initial_x, v0_x), 500)\n",
    "        hit = False\n",
    "    elif (y_in_wall > bottom_embrasure_height and y_in_wall < wall_top_height and\n",
    "          y_out_wall > bottom_embrasure_height and y_out_wall < wall_top_height and\n",
    "          x_max > wall_distance and x_max < wall_end and\n",
    "          y_max >\n",
    "          wall_top_height):\n",
    "    # Попал в окно замка\n",
    "        ts = np.linspace(0, calculate_time_x(wall_end, initial_x, v0_x), 500)\n",
    "        hit = False\n",
    "    else:\n",
    "        ts = np.linspace(0, calculate_time_x(castle_end, initial_x, v0_x), 500)\n",
    "\n",
    "    # Вычисление координат x и y для заданного интервала времени ts\n",
    "    x_coords = [calculate_x_coordinate(t, initial_x, v0_x) for t in ts]\n",
    "    y_coords = [calculate_y_coordinate(t, initial_y, v0_y) for t in ts]\n",
    "\n",
    "    # Построение траектории полета\n",
    "    ax.plot(x_coords, y_coords, color=(0, 0, 0))\n",
    "    \n",
    "    plt.show()\n",
    "    pass\n",
    "\n",
    "    return hit\n"
   ]
  },
  {
   "cell_type": "markdown",
   "id": "8d6378cc-3281-4f09-ad3d-020cbb3e8641",
   "metadata": {},
   "source": [
    "# Пролетел бойницу но не попал в окно"
   ]
  },
  {
   "cell_type": "code",
   "execution_count": 39,
   "id": "7a04ed33-61d2-4c4b-bbba-25619d500858",
   "metadata": {},
   "outputs": [
    {
     "data": {
      "text/plain": [
       "<Figure size 1152x864 with 0 Axes>"
      ]
     },
     "metadata": {},
     "output_type": "display_data"
    },
    {
     "data": {
      "image/png": "[encoded data removed]",
      "text/plain": [
       "<Figure size 432x288 with 1 Axes>"
      ]
     },
     "metadata": {
      "needs_background": "light"
     },
     "output_type": "display_data"
    }
   ],
   "source": [
    "v0 = 15\n",
    "launch_angle = 75\n",
    "st = model(initial_x, initial_x, v0, launch_angle,\n",
    "          wall_distance, wall_width, bottom_embrasure_height, embrasure_height,\n",
    "          castle_distance, castle_window_height, castle_wall_width, window_height)"
   ]
  },
  {
   "cell_type": "markdown",
   "id": "8af8b017-13f5-43ce-a58b-b5587534ff4f",
   "metadata": {},
   "source": [
    "# Не долетел до бойницы"
   ]
  },
  {
   "cell_type": "code",
   "execution_count": 40,
   "id": "61735ff6-9e60-441e-84ca-77ef0c84c693",
   "metadata": {},
   "outputs": [
    {
     "data": {
      "text/plain": [
       "<Figure size 1152x864 with 0 Axes>"
      ]
     },
     "metadata": {},
     "output_type": "display_data"
    },
    {
     "data": {
      "image/png": "[encoded data removed]",
      "text/plain": [
       "<Figure size 432x288 with 1 Axes>"
      ]
     },
     "metadata": {
      "needs_background": "light"
     },
     "output_type": "display_data"
    }
   ],
   "source": [
    "v0 = 10\n",
    "launch_angle = 75\n",
    "st = model(initial_x, initial_x, v0, launch_angle,\n",
    "          wall_distance, wall_width, bottom_embrasure_height, embrasure_height,\n",
    "          castle_distance, castle_window_height, castle_wall_width, window_height)"
   ]
  },
  {
   "cell_type": "markdown",
   "id": "d5701885-c576-4353-99ba-0baf625fce69",
   "metadata": {},
   "source": [
    "# Ударился о стену"
   ]
  },
  {
   "cell_type": "code",
   "execution_count": 41,
   "id": "13f49d90-69c7-4831-be6f-ffb9989308f5",
   "metadata": {},
   "outputs": [
    {
     "data": {
      "text/plain": [
       "<Figure size 1152x864 with 0 Axes>"
      ]
     },
     "metadata": {},
     "output_type": "display_data"
    },
    {
     "data": {
      "image/png": "[encoded data removed]",
      "text/plain": [
       "<Figure size 432x288 with 1 Axes>"
      ]
     },
     "metadata": {
      "needs_background": "light"
     },
     "output_type": "display_data"
    }
   ],
   "source": [
    "v0 = 13\n",
    "launch_angle = 75\n",
    "st = model(initial_x, initial_x, v0, launch_angle,\n",
    "          wall_distance, wall_width, bottom_embrasure_height, embrasure_height,\n",
    "          castle_distance, castle_window_height, castle_wall_width, window_height)"
   ]
  },
  {
   "cell_type": "markdown",
   "id": "68d9062b-bf89-4f84-b38f-c4df852e558f",
   "metadata": {},
   "source": [
    "# Попал в окно"
   ]
  },
  {
   "cell_type": "code",
   "execution_count": 43,
   "id": "c3c506a0-5822-41c4-956c-675fa848a329",
   "metadata": {},
   "outputs": [
    {
     "data": {
      "text/plain": [
       "<Figure size 1152x864 with 0 Axes>"
      ]
     },
     "metadata": {},
     "output_type": "display_data"
    },
    {
     "data": {
      "image/png": "[encoded data removed]",
      "text/plain": [
       "<Figure size 432x288 with 1 Axes>"
      ]
     },
     "metadata": {
      "needs_background": "light"
     },
     "output_type": "display_data"
    }
   ],
   "source": [
    "v0 = 17\n",
    "launch_angle = 75\n",
    "st = model(initial_x, initial_x, v0, launch_angle,\n",
    "          wall_distance, wall_width, bottom_embrasure_height, embrasure_height,\n",
    "          castle_distance, castle_window_height, castle_wall_width, window_height)"
   ]
  },
  {
   "cell_type": "markdown",
   "id": "cf3b58e9-28cd-4568-b5fa-c1767d04da25",
   "metadata": {},
   "source": [
    "# Камень пролетел над окном"
   ]
  },
  {
   "cell_type": "code",
   "execution_count": 50,
   "id": "be64d0df-490f-44f9-a8d8-1b976f2a879a",
   "metadata": {},
   "outputs": [
    {
     "data": {
      "text/plain": [
       "<Figure size 1152x864 with 0 Axes>"
      ]
     },
     "metadata": {},
     "output_type": "display_data"
    },
    {
     "data": {
      "image/png": "[encoded data removed]",
      "text/plain": [
       "<Figure size 432x288 with 1 Axes>"
      ]
     },
     "metadata": {
      "needs_background": "light"
     },
     "output_type": "display_data"
    }
   ],
   "source": [
    "v0 = 18\n",
    "launch_angle = 73\n",
    "st = model(initial_x, initial_x, v0, launch_angle,\n",
    "          wall_distance, wall_width, bottom_embrasure_height, embrasure_height,\n",
    "          castle_distance, castle_window_height, castle_wall_width, window_height)"
   ]
  }
 ],
 "metadata": {
  "kernelspec": {
   "display_name": "anaconda-2022.05-py39",
   "language": "python",
   "name": "conda-env-anaconda-2022.05-py39-py"
  },
  "language_info": {
   "codemirror_mode": {
    "name": "ipython",
    "version": 3
   },
   "file_extension": ".py",
   "mimetype": "text/x-python",
   "name": "python",
   "nbconvert_exporter": "python",
   "pygments_lexer": "ipython3",
   "version": "3.9.12"
  }
 },
 "nbformat": 4,
 "nbformat_minor": 5
}
